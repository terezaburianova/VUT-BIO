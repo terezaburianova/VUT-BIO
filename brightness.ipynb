{
 "cells": [
  {
   "cell_type": "code",
   "execution_count": null,
   "metadata": {},
   "outputs": [],
   "source": [
    "import cv2\n",
    "import glob\n",
    "import os\n",
    "from matplotlib import pyplot as plt"
   ]
  },
  {
   "cell_type": "markdown",
   "metadata": {},
   "source": [
    "## Brightness assesment algorithm"
   ]
  },
  {
   "cell_type": "code",
   "execution_count": null,
   "metadata": {},
   "outputs": [],
   "source": [
    "def create_colormap(path):\n",
    "    processed = 0\n",
    "    for img_path in glob.iglob(f'{path}/*.JPG'):\n",
    "        img = cv2.cvtColor(img, cv2.COLOR_BGR2HSV)\n",
    "        # [0, 1] - hue and saturation\n",
    "        hist = cv2.calcHist([img], [0, 1], None, [180, 256], [0, 180, 0, 256])\n",
    "        cv2.normalize(hist,hist,0,255,cv.NORM_MINMAX)\n",
    "        avg += hist\n",
    "        processed += 1\n",
    "    avg /= processed # normalization to one common histogram\n",
    "    return avg\n",
    "    \n",
    "def features_brightness(img):\n",
    "    cm_light = create_colormap(\"./data/light\")\n",
    "    cm_dark = create_colormap(\"./data/dark\")\n",
    "    cm_normal = create_colormap(\"./data/normal\")\n",
    "    rows,cols,_ = img.shape\n",
    "    bp_bright = cv.calcBackProject([img], [0, 1], cm_light, [0, 180, 0, 256], 1)\n",
    "    bp_dark = cv.calcBackProject([img], [0, 1], cm_dark, [0, 180, 0, 256], 1)\n",
    "    bp_normal = cv.calcBackProject([img], [0, 1], cm_normal, [0, 180, 0, 256], 1)\n",
    "    CM1 = cv2.sumElems(bp_bright)[0]/(rows*cols)\n",
    "    CM2 = cv2.sumElems(bp_dark)[0]/(rows*cols)\n",
    "    CM3 = cv2.sumElems(bp_normal)[0]/(rows*cols)\n",
    "    return CM1, CM2, CM3"
   ]
  },
  {
   "cell_type": "code",
   "execution_count": null,
   "metadata": {},
   "outputs": [],
   "source": [
    "# def show_res_brightness(img):\n",
    "    #TODO\n",
    "    \n",
    "# def dataset_results_brightness(path):\n",
    "    #TODO\n"
   ]
  }
 ],
 "metadata": {
  "language_info": {
   "name": "python"
  }
 },
 "nbformat": 4,
 "nbformat_minor": 2
}
