{
 "cells": [
  {
   "cell_type": "code",
   "execution_count": 1,
   "metadata": {},
   "outputs": [],
   "source": [
    "import numpy as np\n",
    "import cv2\n",
    "import glob\n",
    "import os\n",
    "import pandas as pd\n",
    "from pathlib import Path\n",
    "from matplotlib import pyplot as plt"
   ]
  },
  {
   "cell_type": "markdown",
   "metadata": {},
   "source": [
    "## Focus assesment algorithm"
   ]
  },
  {
   "cell_type": "code",
   "execution_count": 24,
   "metadata": {},
   "outputs": [],
   "source": [
    "def sobel_gradmap(img):\n",
    "    grad_x = cv2.Sobel(img, cv2.CV_16S, 1, 0)\n",
    "    grad_y = cv2.Sobel(img, cv2.CV_16S, 0, 1)\n",
    "    abs_grad_x = cv2.convertScaleAbs(grad_x)\n",
    "    abs_grad_y = cv2.convertScaleAbs(grad_y)\n",
    "    grad = cv2.addWeighted(abs_grad_x, 0.5, abs_grad_y, 0.5, 0)\n",
    "    return grad\n",
    "\n",
    "def features_focus(img):\n",
    "    rows,cols,_ = img.shape\n",
    "    img_gs = cv2.cvtColor(img, cv2.COLOR_BGR2GRAY) # convert to grayscale\n",
    "    O = sobel_gradmap(img_gs)\n",
    "    img_lp_3 = cv2.blur(img_gs,(3,3))\n",
    "    L1 = sobel_gradmap(img_lp_3)\n",
    "    img_lp_5 = cv2.blur(img_gs,(5,5))\n",
    "    L2 = sobel_gradmap(img_lp_5)\n",
    "    # Compute focus measures\n",
    "    FM1 = cv2.sumElems(O)/(rows*cols)\n",
    "    FM2 = FM1 - cv2.sumElems(L1)/(rows*cols)\n",
    "    FM3 = cv2.sumElems(L1)/(rows*cols) - cv2.sumElems(L2)[0]/(rows*cols)\n",
    "    return img_gs, img_lp_3, img_lp_5, FM1, FM2, FM3"
   ]
  },
  {
   "cell_type": "code",
   "execution_count": 20,
   "metadata": {},
   "outputs": [],
   "source": [
    "def show_res_focus(img):\n",
    "    img = cv2.imread(img)\n",
    "    im1, im2, im3, fm1, fm2, fm3 = features_focus(img)\n",
    "    im1 = cv2.cvtColor(im1, cv2.COLOR_GRAY2RGB)\n",
    "    im2 = cv2.cvtColor(im2, cv2.COLOR_GRAY2RGB)\n",
    "    im3 = cv2.cvtColor(im3, cv2.COLOR_GRAY2RGB)\n",
    "    fig = plt.figure(figsize=(12, 10))\n",
    "    fig.add_subplot(1, 3, 1)\n",
    "    plt.imshow(im1) \n",
    "    plt.axis('off') \n",
    "    plt.title(\"Původní obraz\")\n",
    "    fig.add_subplot(1, 3, 2)\n",
    "    plt.imshow(im2)\n",
    "    plt.axis('off') \n",
    "    plt.title(\"2\")\n",
    "    fig.add_subplot(1, 3, 3)\n",
    "    plt.imshow(im3)\n",
    "    plt.axis('off')\n",
    "    plt.title(\"3\")\n",
    "    print(fm1)\n",
    "    print(fm2)\n",
    "    print(fm3)\n",
    "\n",
    "# def dataset_results_focus(path):\n",
    "    #TODO"
   ]
  },
  {
   "cell_type": "code",
   "execution_count": null,
   "metadata": {},
   "outputs": [],
   "source": [
    "show_res_focus(\"./STRaDeSetB_preprocessed/001_L1_2577.JPG\")"
   ]
  },
  {
   "cell_type": "code",
   "execution_count": null,
   "metadata": {},
   "outputs": [],
   "source": [
    "show_res_focus(\"./STRaDeSetB_preprocessed/002_R2_2569.JPG\")"
   ]
  },
  {
   "cell_type": "code",
   "execution_count": null,
   "metadata": {},
   "outputs": [],
   "source": [
    "show_res_focus(\"./STRaDeSetB_preprocessed/Failure_cases/041_F1_3058.JPG\")"
   ]
  },
  {
   "cell_type": "code",
   "execution_count": null,
   "metadata": {},
   "outputs": [],
   "source": [
    "show_res_focus(\"./STRaDeSetB_preprocessed/Failure_cases/031_F2_2940.JPG\")"
   ]
  },
  {
   "cell_type": "markdown",
   "metadata": {},
   "source": [
    "## Brightness assesment algorithm"
   ]
  },
  {
   "cell_type": "code",
   "execution_count": null,
   "metadata": {},
   "outputs": [],
   "source": [
    "def create_colormap(path):\n",
    "    processed = 0\n",
    "    for img_path in glob.iglob(f'{path}/*.JPG'):\n",
    "        img = cv2.cvtColor(img, cv2.COLOR_BGR2HSV)\n",
    "        # [0, 1] - hue and saturation\n",
    "        hist = cv2.calcHist([img], [0, 1], None, [180, 256], [0, 180, 0, 256])\n",
    "        cv2.normalize(hist,hist,0,255,cv.NORM_MINMAX)\n",
    "        avg += hist\n",
    "        processed += 1\n",
    "    avg /= processed # normalization to one common histogram\n",
    "    return avg\n",
    "    \n",
    "def features_brightness(img):\n",
    "    cm_light = create_colormap(\"./data/light\")\n",
    "    cm_dark = create_colormap(\"./data/dark\")\n",
    "    cm_normal = create_colormap(\"./data/normal\")\n",
    "    rows,cols,_ = img.shape\n",
    "    bp_bright = cv.calcBackProject([img], [0, 1], cm_light, [0, 180, 0, 256], 1)\n",
    "    bp_dark = cv.calcBackProject([img], [0, 1], cm_dark, [0, 180, 0, 256], 1)\n",
    "    bp_normal = cv.calcBackProject([img], [0, 1], cm_normal, [0, 180, 0, 256], 1)\n",
    "    CM1 = cv2.sumElems(bp_bright)/(rows*cols)\n",
    "    CM2 = cv2.sumElems(bp_dark)/(rows*cols)\n",
    "    CM3 = cv2.sumElems(bp_normal)/(rows*cols)\n",
    "    return CM1, CM2, CM3"
   ]
  },
  {
   "cell_type": "code",
   "execution_count": null,
   "metadata": {},
   "outputs": [],
   "source": [
    "# def show_res_brightness(img):\n",
    "    #TODO\n",
    "    \n",
    "# def dataset_results_brightness(path):\n",
    "    #TODO\n"
   ]
  }
 ],
 "metadata": {
  "kernelspec": {
   "display_name": "Python 3",
   "language": "python",
   "name": "python3"
  },
  "language_info": {
   "codemirror_mode": {
    "name": "ipython",
    "version": 3
   },
   "file_extension": ".py",
   "mimetype": "text/x-python",
   "name": "python",
   "nbconvert_exporter": "python",
   "pygments_lexer": "ipython3",
   "version": "3.10.12"
  }
 },
 "nbformat": 4,
 "nbformat_minor": 2
}
